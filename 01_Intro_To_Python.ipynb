{
  "nbformat": 4,
  "nbformat_minor": 0,
  "metadata": {
    "colab": {
      "provenance": [],
      "authorship_tag": "ABX9TyNKMGDg/0ahFlQvxMZr7boF",
      "include_colab_link": true
    },
    "kernelspec": {
      "name": "python3",
      "display_name": "Python 3"
    },
    "language_info": {
      "name": "python"
    }
  },
  "cells": [
    {
      "cell_type": "markdown",
      "metadata": {
        "id": "view-in-github",
        "colab_type": "text"
      },
      "source": [
        "<a href=\"https://colab.research.google.com/github/TheTharz/BookStore-Frontend/blob/main/01_Intro_To_Python.ipynb\" target=\"_parent\"><img src=\"https://colab.research.google.com/assets/colab-badge.svg\" alt=\"Open In Colab\"/></a>"
      ]
    },
    {
      "cell_type": "markdown",
      "source": [
        "#Input and Output\n"
      ],
      "metadata": {
        "id": "TNczuhRHLyoH"
      }
    },
    {
      "cell_type": "markdown",
      "source": [
        "Hello World"
      ],
      "metadata": {
        "id": "b9GrugokL4cC"
      }
    },
    {
      "cell_type": "code",
      "source": [
        "print(\"Hello World\")\n"
      ],
      "metadata": {
        "colab": {
          "base_uri": "https://localhost:8080/"
        },
        "id": "KMMgc7EJKZHM",
        "outputId": "be6651bf-80a9-46c6-b087-371fc873ef8f"
      },
      "execution_count": 2,
      "outputs": [
        {
          "output_type": "stream",
          "name": "stdout",
          "text": [
            "Hello World\n"
          ]
        }
      ]
    },
    {
      "cell_type": "markdown",
      "source": [
        "Some more Output"
      ],
      "metadata": {
        "id": "gZQyXBkRMZf5"
      }
    },
    {
      "cell_type": "code",
      "source": [
        "print(2+5)"
      ],
      "metadata": {
        "colab": {
          "base_uri": "https://localhost:8080/"
        },
        "id": "bwVIwHb1L7_z",
        "outputId": "011d6256-ecd3-49f4-f83d-c7d9cc0c970c"
      },
      "execution_count": 3,
      "outputs": [
        {
          "output_type": "stream",
          "name": "stdout",
          "text": [
            "7\n"
          ]
        }
      ]
    },
    {
      "cell_type": "markdown",
      "source": [
        "#Variables"
      ],
      "metadata": {
        "id": "Fb7FUZcIMt_l"
      }
    },
    {
      "cell_type": "markdown",
      "source": [
        "Assigning variable"
      ],
      "metadata": {
        "id": "wOatWuecNett"
      }
    },
    {
      "cell_type": "code",
      "source": [
        "five = 5\n",
        "one = 1\n",
        "print(five)\n",
        "print(one + one)\n",
        "message = \"This is a string\"\n",
        "print(message)"
      ],
      "metadata": {
        "colab": {
          "base_uri": "https://localhost:8080/"
        },
        "id": "_oPd8oidMefH",
        "outputId": "77cc497c-4279-4f19-a2fc-521819dab0ff"
      },
      "execution_count": 4,
      "outputs": [
        {
          "output_type": "stream",
          "name": "stdout",
          "text": [
            "5\n",
            "2\n",
            "This is a string\n"
          ]
        }
      ]
    },
    {
      "cell_type": "markdown",
      "source": [
        "Type of variables"
      ],
      "metadata": {
        "id": "3ncZsNQqNhbc"
      }
    },
    {
      "cell_type": "code",
      "source": [
        "print(type(five))"
      ],
      "metadata": {
        "colab": {
          "base_uri": "https://localhost:8080/"
        },
        "id": "UYg8xJS4M1fQ",
        "outputId": "62c208db-37de-4ac4-a322-ff433a2f6972"
      },
      "execution_count": 5,
      "outputs": [
        {
          "output_type": "stream",
          "name": "stdout",
          "text": [
            "<class 'int'>\n"
          ]
        }
      ]
    },
    {
      "cell_type": "markdown",
      "source": [
        "Taking inputs from users"
      ],
      "metadata": {
        "id": "x3s8ReS_N9iz"
      }
    },
    {
      "cell_type": "code",
      "source": [
        "num1 = input(\"Enter the number 01 - \")\n",
        "num2 = input(\"Enter the number 02 - \")\n",
        "print(num1+num2)\n"
      ],
      "metadata": {
        "colab": {
          "base_uri": "https://localhost:8080/"
        },
        "id": "wABd3_LANcA2",
        "outputId": "b07f7661-e1b8-47cc-dc64-f5d4a7a5ab7d"
      },
      "execution_count": 8,
      "outputs": [
        {
          "output_type": "stream",
          "name": "stdout",
          "text": [
            "Enter the number 01 - 58\n",
            "Enter the number 02 - 552\n",
            "58552\n"
          ]
        }
      ]
    },
    {
      "cell_type": "markdown",
      "source": [
        "convert to int"
      ],
      "metadata": {
        "id": "FkXAmvFJQDuR"
      }
    },
    {
      "cell_type": "code",
      "source": [
        "num1 = int(input(\"Enter the number 01 - \"))\n",
        "num2 = int(input(\"Enter the number 02 - \"))\n",
        "print(num1+num2)"
      ],
      "metadata": {
        "colab": {
          "base_uri": "https://localhost:8080/"
        },
        "id": "WXT7EBjxOOCp",
        "outputId": "0f7b47d4-349d-45f6-e291-3fe86c512ad3"
      },
      "execution_count": 9,
      "outputs": [
        {
          "output_type": "stream",
          "name": "stdout",
          "text": [
            "Enter the number 01 - 5\n",
            "Enter the number 02 - 3\n",
            "8\n"
          ]
        }
      ]
    },
    {
      "cell_type": "markdown",
      "source": [
        "Data Types"
      ],
      "metadata": {
        "id": "7q40W8xzQSX5"
      }
    },
    {
      "cell_type": "code",
      "source": [
        "integer_variable = 100\n",
        "floating_point_variable = 100.0\n",
        "string_variable = \"100\"\n",
        "\n",
        "print(type(integer_variable))\n",
        "print(type(floating_point_variable))\n",
        "print(type(string_variable))\n",
        "print(\"-----\")\n",
        "print(type(int(floating_point_variable)))\n",
        "print(type(float(integer_variable)))\n",
        "print(type(float(string_variable)))"
      ],
      "metadata": {
        "colab": {
          "base_uri": "https://localhost:8080/"
        },
        "id": "t_sLGOzVQKm4",
        "outputId": "b2b6962d-2cfa-4460-b9cc-fd475bc53541"
      },
      "execution_count": 10,
      "outputs": [
        {
          "output_type": "stream",
          "name": "stdout",
          "text": [
            "<class 'int'>\n",
            "<class 'float'>\n",
            "<class 'str'>\n",
            "-----\n",
            "<class 'int'>\n",
            "<class 'float'>\n",
            "<class 'float'>\n"
          ]
        }
      ]
    },
    {
      "cell_type": "markdown",
      "source": [
        "#File Input And Output"
      ],
      "metadata": {
        "id": "74NrUAJAQYff"
      }
    },
    {
      "cell_type": "markdown",
      "source": [
        "Writing to a file"
      ],
      "metadata": {
        "id": "U_CbSOn3Qdgn"
      }
    },
    {
      "cell_type": "code",
      "source": [
        "my_file = open(\"output_file.txt\",'w')\n",
        "vars = \"This is a string\\n\"\n",
        "my_file.write(vars)\n",
        "var3 = 10\n",
        "\n",
        "my_file.write(str(var3))\n",
        "var4 = 20.0\n",
        "my_file.write(\"\\n\")\n",
        "my_file.write(str(var4))\n",
        "my_file.close()"
      ],
      "metadata": {
        "id": "HyjaNmIQQU9t"
      },
      "execution_count": 11,
      "outputs": []
    },
    {
      "cell_type": "code",
      "source": [],
      "metadata": {
        "id": "uvChXqooQlqN"
      },
      "execution_count": null,
      "outputs": []
    }
  ]
}